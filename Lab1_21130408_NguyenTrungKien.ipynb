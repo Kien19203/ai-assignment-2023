{
  "nbformat": 4,
  "nbformat_minor": 0,
  "metadata": {
    "colab": {
      "provenance": [],
      "authorship_tag": "ABX9TyOAx8c3yhks9uRr1WKcoxFR",
      "include_colab_link": true
    },
    "kernelspec": {
      "name": "python3",
      "display_name": "Python 3"
    },
    "language_info": {
      "name": "python"
    }
  },
  "cells": [
    {
      "cell_type": "markdown",
      "metadata": {
        "id": "view-in-github",
        "colab_type": "text"
      },
      "source": [
        "<a href=\"https://colab.research.google.com/github/Kien19203/ai-assignment-2023/blob/main/Lab1_21130408_NguyenTrungKien.ipynb\" target=\"_parent\"><img src=\"https://colab.research.google.com/assets/colab-badge.svg\" alt=\"Open In Colab\"/></a>"
      ]
    },
    {
      "cell_type": "markdown",
      "source": [
        "**Task 1.1.**  Develop a Python program to perform the following tasks:\n",
        "\n",
        "```\n",
        "# – Input an integer number n\n",
        "# – Input n integer numbers x1, x2,..., xn and append them into a list L.\n",
        "# – Find the max/min element in L\n",
        "# – Compute the sum of elements in L.\n",
        "# – Sort the list L in ascending order.\n",
        "# – Show how many positive and negative numbers are in the list L.\n",
        "\n",
        "```"
      ],
      "metadata": {
        "id": "hMtNYIO0vJEw"
      }
    },
    {
      "cell_type": "code",
      "execution_count": 10,
      "metadata": {
        "id": "1pZMUM4IuQZZ"
      },
      "outputs": [],
      "source": [
        "\n",
        "def task1():\n",
        "  n = input('Enter n: ')\n",
        "  # list = []\n",
        "  #   for i in range(n):\n",
        "  #     list.append(n)\n",
        "  print(n)"
      ]
    }
  ]
}